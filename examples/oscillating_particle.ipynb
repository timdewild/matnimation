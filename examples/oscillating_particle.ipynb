{
 "cells": [
  {
   "cell_type": "markdown",
   "metadata": {},
   "source": [
    "# Oscillating Particle\n",
    "In this example, we show how `matnimation` can be used to generate a simple animation of a particle moving in the $(x,y)$ plane. The trajectory of the particle is given by:\n",
    "$$\n",
    "\\begin{align*}\n",
    "x(t) &= t \\\\\n",
    "y(t) &= \\sin(t)\n",
    "\\end{align*}\n",
    "$$\n",
    "where the time interval is taken to be $t\\in[0,2\\pi]$. "
   ]
  },
  {
   "cell_type": "markdown",
   "metadata": {},
   "source": [
    "## Step 0: Import Dependencies"
   ]
  },
  {
   "cell_type": "code",
   "execution_count": 1,
   "metadata": {},
   "outputs": [],
   "source": [
    "import numpy as np"
   ]
  },
  {
   "cell_type": "markdown",
   "metadata": {},
   "source": [
    "## Step 1: Generate Trajectory\n",
    "We start by discretizing time and finding the trajectory at all timesteps."
   ]
  },
  {
   "cell_type": "code",
   "execution_count": 2,
   "metadata": {},
   "outputs": [],
   "source": [
    "# generate timearray\n",
    "tmin, tmax, N_timesteps = 0, 2*np.pi, 60\n",
    "time_array = np.linspace(tmin, tmax, N_timesteps)\n",
    "\n",
    "# generate trajectory at all timesteps\n",
    "x_particle = time_array\n",
    "y_particle = np.sin(time_array)"
   ]
  },
  {
   "cell_type": "markdown",
   "metadata": {},
   "source": [
    "In `time_array`, we chose the number of timesteps `N_timesteps` to be 60, which means that the final animation will contain 60 frames in total. At a later stage, when we construct the `Animation` object, we will set the time `interval` between each frame. The duration of the rendered animation will then be `N_timesteps * interval`. "
   ]
  }
 ],
 "metadata": {
  "kernelspec": {
   "display_name": "base",
   "language": "python",
   "name": "python3"
  },
  "language_info": {
   "codemirror_mode": {
    "name": "ipython",
    "version": 3
   },
   "file_extension": ".py",
   "mimetype": "text/x-python",
   "name": "python",
   "nbconvert_exporter": "python",
   "pygments_lexer": "ipython3",
   "version": "3.9.18"
  }
 },
 "nbformat": 4,
 "nbformat_minor": 2
}
